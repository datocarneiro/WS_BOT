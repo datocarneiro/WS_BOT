{
 "cells": [
  {
   "cell_type": "markdown",
   "id": "1736eb13",
   "metadata": {},
   "source": [
    "\n",
    "    bot-atendimento/\n",
    "    ├── docker-compose.yml\n",
    "    ├── Dockerfile\n",
    "    ├── package.json\n",
    "    ├── src/\n",
    "    │   ├── index.js\n",
    "    │   ├── menu.js\n",
    "    │   ├── utils.js\n",
    "    │   └── handlers.js\n"
   ]
  },
  {
   "cell_type": "markdown",
   "id": "a960400b",
   "metadata": {},
   "source": [
    "Para rodar:\n",
    "\n",
    "```bash\n",
    "docker-compose build\n",
    "docker-compose up"
   ]
  },
  {
   "cell_type": "markdown",
   "id": "2ec3d02e",
   "metadata": {},
   "source": [
    "    Menu Principal – Escolha o departamento:\n",
    "    1 - Operacional\n",
    "    └─ 1 - Consultar Pedido\n",
    "    └─ 2 - Consultar Recebimento\n",
    "    └─ 3 - Voltar\n",
    "\n",
    "    2 - Financeiro\n",
    "    └─ 1 - Solicitar Fatura\n",
    "    └─ 2 - Voltar\n",
    "\n",
    "    3 - Equipe Técnica\n",
    "    └─ 1 - Assunto 1 (texto técnico)\n",
    "    └─ 2 - Assunto 2 (texto técnico)\n",
    "    └─ 3 - Voltar\n",
    "\n",
    "    4 - Treinamento\n",
    "    └─ 1 - Inserir anexos de documentos\n",
    "    └─ 2 - Criar ordem manual\n",
    "    └─ 3 - Voltar\n"
   ]
  }
 ],
 "metadata": {
  "kernelspec": {
   "display_name": ".venv",
   "language": "python",
   "name": "python3"
  },
  "language_info": {
   "name": "python",
   "version": "3.12.1"
  }
 },
 "nbformat": 4,
 "nbformat_minor": 5
}
