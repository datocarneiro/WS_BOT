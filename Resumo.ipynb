{
 "cells": [
  {
   "cell_type": "markdown",
   "id": "2b66cdb2",
   "metadata": {},
   "source": [
    "## Estrutura "
   ]
  },
  {
   "cell_type": "markdown",
   "id": "de830dbc",
   "metadata": {},
   "source": [
    "```markdown\n",
    "WS_BOT/\n",
    "├─ session/                         # Armazena sessões ativas do WhatsApp Web (Baileys)\n",
    "├─ src/                             # Diretório principal com a lógica de negócio do projeto\n",
    "│  ├─ bot/                          # Contém a lógica principal do bot\n",
    "│  │  ├─ handlers/                  # Manipuladores de mensagens e ações do bot\n",
    "│  │  │  ├─ actions/               # Ações específicas por departamento (ex: operacional)\n",
    "│  │  │  │  └─ operacional.js      # Ações personalizadas do menu operacional\n",
    "│  │  │  └─ handleMessage.js       # Função central que trata mensagens recebidas\n",
    "│  │  ├─ utils/                    # Utilitários usados pelo bot\n",
    "│  │  │  └─ fetchPedido.js         # Exemplo de função para buscar informações de pedidos\n",
    "│  │  └─ client.js                 # Inicializa e configura o cliente Baileys (conexão com WhatsApp)\n",
    "│  ├─ menus/                       # Menus organizados por contexto/departamento\n",
    "│  │  ├─ equipeTec.js             # Menu do departamento de Equipe Técnica\n",
    "│  │  ├─ financeiro.js            # Menu do departamento Financeiro\n",
    "│  │  ├─ index.js                 # Agregador de todos os menus e opção automática de \"Voltar\"\n",
    "│  │  ├─ main.js                  # Menu principal (primeira interação do usuário)\n",
    "│  │  ├─ operacional.js           # Menu do departamento Operacional\n",
    "│  │  └─ treinamento.js           # Menu do departamento de Treinamento\n",
    "│  ├─ utils/                      # Utilidades genéricas reutilizáveis\n",
    "│  │  └─ greetings.js             # Exibe saudações personalizadas\n",
    "│  ├─ index.js                    # Ponto de entrada principal da aplicação\n",
    "│  └─ responde.json               # Base de respostas e mensagens do bot em formato JSON\n",
    "├─ .gitignore                     # Arquivos e pastas ignorados pelo Git\n",
    "├─ docker-compose.yml            # Arquivo de orquestração de containers Docker\n",
    "├─ Dockerfile                    # Dockerfile para containerização da aplicação\n",
    "├─ package-lock.json             # Lockfile gerado pelo npm\n",
    "├─ package.json                  # Dependências e metadados do projeto Node.js\n",
    "├─ README.md                     # Documentação geral do projeto\n",
    "└─ Resumo.ipynb                  # Resumo em formato Jupyter Notebook (ex: análises, testes)\n",
    "```"
   ]
  },
  {
   "cell_type": "markdown",
   "id": "a960400b",
   "metadata": {},
   "source": [
    "Para rodar:\n",
    "\n",
    "```bash\n",
    "docker-compose up --build \n",
    "\n"
   ]
  },
  {
   "cell_type": "markdown",
   "id": "2ec3d02e",
   "metadata": {},
   "source": [
    "    Menu Principal – Escolha o departamento:\n",
    "    1 - Operacional\n",
    "    └─ 1 - Consultar Pedido\n",
    "    └─ 2 - Consultar Recebimento\n",
    "    └─ 3 - Voltar\n",
    "\n",
    "    2 - Financeiro\n",
    "    └─ 1 - Solicitar Fatura\n",
    "    └─ 2 - Voltar\n",
    "\n",
    "    3 - Equipe Técnica\n",
    "    └─ 1 - Assunto 1 (texto técnico)\n",
    "    └─ 2 - Assunto 2 (texto técnico)\n",
    "    └─ 3 - Voltar\n",
    "\n",
    "    4 - Treinamento\n",
    "    └─ 1 - Inserir anexos de documentos\n",
    "    └─ 2 - Criar ordem manual\n",
    "    └─ 3 - Voltar\n"
   ]
  },
  {
   "cell_type": "markdown",
   "id": "107e9137",
   "metadata": {},
   "source": []
  }
 ],
 "metadata": {
  "kernelspec": {
   "display_name": ".venv",
   "language": "python",
   "name": "python3"
  },
  "language_info": {
   "name": "python",
   "version": "3.12.1"
  }
 },
 "nbformat": 4,
 "nbformat_minor": 5
}
